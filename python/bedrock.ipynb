{
 "cells": [
  {
   "cell_type": "code",
   "execution_count": 31,
   "metadata": {},
   "outputs": [
    {
     "name": "stdout",
     "output_type": "stream",
     "text": [
      "Requirement already satisfied: python-dotenv in /Users/aramhammoudeh/Library/Python/3.10/lib/python/site-packages (1.0.0)\n",
      "Requirement already satisfied: boto3 in /opt/homebrew/lib/python3.10/site-packages (1.34.157)\n",
      "Requirement already satisfied: awscli in /opt/homebrew/lib/python3.10/site-packages (1.33.39)\n",
      "Requirement already satisfied: Flask in /Users/aramhammoudeh/Library/Python/3.10/lib/python/site-packages (2.2.3)\n",
      "Requirement already satisfied: botocore<1.35.0,>=1.34.157 in /opt/homebrew/lib/python3.10/site-packages (from boto3) (1.34.157)\n",
      "Requirement already satisfied: jmespath<2.0.0,>=0.7.1 in /opt/homebrew/lib/python3.10/site-packages (from boto3) (1.0.1)\n",
      "Requirement already satisfied: s3transfer<0.11.0,>=0.10.0 in /opt/homebrew/lib/python3.10/site-packages (from boto3) (0.10.2)\n",
      "Requirement already satisfied: docutils<0.17,>=0.10 in /opt/homebrew/lib/python3.10/site-packages (from awscli) (0.16)\n",
      "Requirement already satisfied: PyYAML<6.1,>=3.10 in /Users/aramhammoudeh/Library/Python/3.10/lib/python/site-packages (from awscli) (6.0.1)\n",
      "Requirement already satisfied: colorama<0.4.7,>=0.2.5 in /opt/homebrew/lib/python3.10/site-packages (from awscli) (0.4.6)\n",
      "Requirement already satisfied: rsa<4.8,>=3.1.2 in /opt/homebrew/lib/python3.10/site-packages (from awscli) (4.7.2)\n",
      "Requirement already satisfied: python-dateutil<3.0.0,>=2.1 in /Users/aramhammoudeh/Library/Python/3.10/lib/python/site-packages (from botocore<1.35.0,>=1.34.157->boto3) (2.9.0.post0)\n",
      "Requirement already satisfied: urllib3!=2.2.0,<3,>=1.25.4 in /opt/homebrew/lib/python3.10/site-packages (from botocore<1.35.0,>=1.34.157->boto3) (2.2.1)\n",
      "Requirement already satisfied: Werkzeug>=2.2.2 in /Users/aramhammoudeh/Library/Python/3.10/lib/python/site-packages (from Flask) (2.2.3)\n",
      "Requirement already satisfied: Jinja2>=3.0 in /Users/aramhammoudeh/Library/Python/3.10/lib/python/site-packages (from Flask) (3.1.2)\n",
      "Requirement already satisfied: itsdangerous>=2.0 in /Users/aramhammoudeh/Library/Python/3.10/lib/python/site-packages (from Flask) (2.1.2)\n",
      "Requirement already satisfied: click>=8.0 in /Users/aramhammoudeh/Library/Python/3.10/lib/python/site-packages (from Flask) (8.1.3)\n",
      "Requirement already satisfied: MarkupSafe>=2.0 in /Users/aramhammoudeh/Library/Python/3.10/lib/python/site-packages (from Jinja2>=3.0->Flask) (2.1.2)\n",
      "Requirement already satisfied: pyasn1>=0.1.3 in /opt/homebrew/lib/python3.10/site-packages (from rsa<4.8,>=3.1.2->awscli) (0.6.0)\n",
      "Requirement already satisfied: six>=1.5 in /Users/aramhammoudeh/Library/Python/3.10/lib/python/site-packages (from python-dateutil<3.0.0,>=2.1->botocore<1.35.0,>=1.34.157->boto3) (1.16.0)\n",
      "\n",
      "\u001b[1m[\u001b[0m\u001b[34;49mnotice\u001b[0m\u001b[1;39;49m]\u001b[0m\u001b[39;49m A new release of pip is available: \u001b[0m\u001b[31;49m24.0\u001b[0m\u001b[39;49m -> \u001b[0m\u001b[32;49m24.2\u001b[0m\n",
      "\u001b[1m[\u001b[0m\u001b[34;49mnotice\u001b[0m\u001b[1;39;49m]\u001b[0m\u001b[39;49m To update, run: \u001b[0m\u001b[32;49mpython3.10 -m pip install --upgrade pip\u001b[0m\n",
      "Note: you may need to restart the kernel to use updated packages.\n"
     ]
    }
   ],
   "source": [
    "# install all packages to access .env and .local.env, and then access aws bedrock \n",
    "\n",
    "%pip install python-dotenv boto3 awscli Flask"
   ]
  },
  {
   "cell_type": "code",
   "execution_count": 32,
   "metadata": {},
   "outputs": [
    {
     "name": "stdout",
     "output_type": "stream",
     "text": [
      " Sure, I'd be happy to create a story for you. Let's explore a topic that's not often discussed: the secret life of socks.\n",
      "\n",
      "Once upon a time, in a small town named Knitsville, there was a sock drawer bursting with socks of all colors, patterns, and sizes. Among them was a pair of socks named Socko and Sockette. They were not your ordinary socks; they were a matching pair of bright neon green socks with purple polka dots.\n",
      "\n",
      "Every day, they would eagerly wait for their turn to be chosen by their owner, a cheerful young girl named Lily. Lily loved her socks and always picked the pair that best matched her mood for the day. Socko and Sockette were her favorites for their vibrant colors and unique pattern.\n",
      "\n",
      "One day, Socko went missing. Sockette was devastated. She waited all day in the drawer, hoping for Socko's return. Days turned into weeks, and still, there was no sign of Socko.\n",
      "\n",
      "Meanwhile, Socko had found himself in a strange place - the laundry room. He had accidentally fallen behind the dryer and couldn't find his way back. But Socko was a brave sock. He decided to explore this new world and hopefully find a way back to his beloved Sockette.\n",
      "\n",
      "During his adventure, Socko encountered various items lost behind the dryer: a missing button, a lost earring, and even a forgotten toy soldier. Together, they formed an unlikely team, helping each other find their way back to their respective homes.\n",
      "\n",
      "Back in the drawer, Sockette, inspired by Socko's courage, decided to take action. She rallied the other socks and started a search party. They scoured the bedroom, the laundry basket, and finally, the laundry room.\n",
      "\n",
      "Just as Sockette and her team reached the laundry room, Socko and his new friends emerged from behind the dryer. There was a joyous reunion, and Socko and Sockette were finally back together. From that day forward, they never separated, and their adventures became legendary tales in Knitsville.\n",
      "\n",
      "And so, the secret life of socks in Knitsville continued, filled with camaraderie, bravery, and the unbreakable bond between a pair of socks."
     ]
    }
   ],
   "source": [
    "import os\n",
    "from dotenv import load_dotenv\n",
    "import json\n",
    "\n",
    "load_dotenv(dotenv_path=\"../.env\")\n",
    "\n",
    "load_dotenv(dotenv_path=\"../.local.env\")\n",
    "\n",
    "\n",
    "import boto3\n",
    "\n",
    "# get the aws credentials from the .local.env file in ../.local.env\n",
    "AWS_ACCESS_KEY_ID = os.getenv(\"AWS_ACCESS_KEY_ID\")\n",
    "AWS_SECRET_ACCESS_KEY = os.getenv(\"AWS_SECRET_ACCESS_KEY\")\n",
    "accept = \"application/json\"\n",
    "contentType = \"application/json\"\n",
    "\n",
    "\n",
    "from botocore.exceptions import ClientError\n",
    "\n",
    "# Create a Bedrock Runtime client in the AWS Region of your choice.\n",
    "client = boto3.client(\"bedrock-runtime\", region_name=\"us-east-1\")\n",
    "\n",
    "\n",
    "# Set the model ID, e.g., Mistral Large.\n",
    "model_id = \"mistral.mistral-large-2402-v1:0\"\n",
    "\n",
    "# Define the prompt for the model.\n",
    "prompt = \"Tell me a random story with a random topic\"\n",
    "\n",
    "# Embed the prompt in Mistral's instruction format.\n",
    "formatted_prompt = f\"<s>[INST] {prompt} [/INST]\"\n",
    "\n",
    "# Format the request payload using the model's native structure.\n",
    "native_request = {\n",
    "    \"prompt\": formatted_prompt,\n",
    "    \"max_tokens\": 512,\n",
    "    \"temperature\": 0.5,\n",
    "}\n",
    "\n",
    "# Convert the native request to JSON.\n",
    "request = json.dumps(native_request)\n",
    "def invoke_model(client, model_id, request, stream=False):\n",
    "    try:\n",
    "        if stream:\n",
    "            # Invoke the model with the request and stream the response.\n",
    "            streaming_response = client.invoke_model_with_response_stream(\n",
    "                modelId=model_id, body=request\n",
    "            )\n",
    "\n",
    "            # Extract and print the response text in real-time.\n",
    "            for event in streaming_response[\"body\"]:\n",
    "                chunk = json.loads(event[\"chunk\"][\"bytes\"])\n",
    "                if \"outputs\" in chunk:\n",
    "                    print(chunk[\"outputs\"][0].get(\"text\"), end=\"\")\n",
    "        else:\n",
    "            # Invoke the model with the request.\n",
    "            response = client.invoke_model(modelId=model_id, body=request)\n",
    "\n",
    "            # Decode the response body.\n",
    "            model_response = json.loads(response[\"body\"].read())\n",
    "\n",
    "            # Extract and print the response text.\n",
    "            response_text = model_response[\"outputs\"][0][\"text\"]\n",
    "            print(response_text)\n",
    "\n",
    "    except (ClientError, Exception) as e:\n",
    "        print(f\"ERROR: Can't invoke '{model_id}'. Reason: {e}\")\n",
    "        exit(1)\n",
    "\n",
    "# Invoke the model and print the response.\n",
    "invoke_model(client, model_id, request, True)"
   ]
  },
  {
   "cell_type": "code",
   "execution_count": 30,
   "metadata": {},
   "outputs": [
    {
     "name": "stdout",
     "output_type": "stream",
     "text": [
      " The purpose of a 'hello world' program is to provide a simple introduction to a programming language's syntax, demonstrating its basic input and output functions."
     ]
    }
   ],
   "source": []
  }
 ],
 "metadata": {
  "kernelspec": {
   "display_name": "Python 3",
   "language": "python",
   "name": "python3"
  },
  "language_info": {
   "codemirror_mode": {
    "name": "ipython",
    "version": 3
   },
   "file_extension": ".py",
   "mimetype": "text/x-python",
   "name": "python",
   "nbconvert_exporter": "python",
   "pygments_lexer": "ipython3",
   "version": "3.10.14"
  }
 },
 "nbformat": 4,
 "nbformat_minor": 2
}
